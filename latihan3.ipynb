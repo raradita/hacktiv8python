{
 "cells": [
  {
   "attachments": {},
   "cell_type": "markdown",
   "metadata": {},
   "source": [
    "## Function, Module, and Package"
   ]
  },
  {
   "attachments": {},
   "cell_type": "markdown",
   "metadata": {},
   "source": [
    "### Function"
   ]
  },
  {
   "cell_type": "code",
   "execution_count": 128,
   "metadata": {},
   "outputs": [],
   "source": [
    "def f(x):\n",
    "    value = x**2 + (2*x) + 3\n",
    "    return value"
   ]
  },
  {
   "cell_type": "code",
   "execution_count": 129,
   "metadata": {},
   "outputs": [],
   "source": [
    "var1 = f(1)\n",
    "var2 = f(3)"
   ]
  },
  {
   "cell_type": "code",
   "execution_count": 130,
   "metadata": {},
   "outputs": [],
   "source": [
    "def factorials(n):\n",
    "    value = 1\n",
    "    while n > 1:\n",
    "        value *= n\n",
    "        n -= 1\n",
    "    return value"
   ]
  },
  {
   "cell_type": "code",
   "execution_count": 131,
   "metadata": {},
   "outputs": [
    {
     "data": {
      "text/plain": [
       "120"
      ]
     },
     "execution_count": 131,
     "metadata": {},
     "output_type": "execute_result"
    }
   ],
   "source": [
    "factorials(5)"
   ]
  },
  {
   "cell_type": "code",
   "execution_count": 132,
   "metadata": {},
   "outputs": [],
   "source": [
    "def penjumlahan(bilangan1, bilangan2):\n",
    "    return bilangan1 + bilangan2\n",
    "\n"
   ]
  },
  {
   "cell_type": "code",
   "execution_count": 133,
   "metadata": {},
   "outputs": [
    {
     "data": {
      "text/plain": [
       "14"
      ]
     },
     "execution_count": 133,
     "metadata": {},
     "output_type": "execute_result"
    }
   ],
   "source": [
    "var1 = 5\n",
    "var2 = 9\n",
    "penjumlahan(var1, var2)"
   ]
  },
  {
   "cell_type": "code",
   "execution_count": 134,
   "metadata": {},
   "outputs": [],
   "source": [
    "def penjumlahaninputList(List_input):\n",
    "    total = 0\n",
    "    for i in List_input:\n",
    "        total += i\n",
    "    return total"
   ]
  },
  {
   "cell_type": "code",
   "execution_count": 135,
   "metadata": {},
   "outputs": [
    {
     "data": {
      "text/plain": [
       "110"
      ]
     },
     "execution_count": 135,
     "metadata": {},
     "output_type": "execute_result"
    }
   ],
   "source": [
    "penjumlahaninputList([10,10,20,30,40])"
   ]
  },
  {
   "cell_type": "code",
   "execution_count": 136,
   "metadata": {},
   "outputs": [],
   "source": [
    "def penjumalan(*var_arg):\n",
    "    total = 0\n",
    "    for i in var_arg:\n",
    "        total += i\n",
    "    return total"
   ]
  },
  {
   "cell_type": "code",
   "execution_count": 137,
   "metadata": {},
   "outputs": [
    {
     "data": {
      "text/plain": [
       "30"
      ]
     },
     "execution_count": 137,
     "metadata": {},
     "output_type": "execute_result"
    }
   ],
   "source": [
    "penjumalan(10,10,10)"
   ]
  },
  {
   "cell_type": "code",
   "execution_count": 138,
   "metadata": {},
   "outputs": [],
   "source": [
    "#LAMDA define fungsi supaya tidak menulis value dan return ( one line )\n",
    "\n",
    "# def f(x):\n",
    "# value = x**2 + (2*x) + 3\n",
    "# return value\n",
    "\n",
    "g = lambda x: x**2 + 2*x +3\n"
   ]
  },
  {
   "cell_type": "code",
   "execution_count": 139,
   "metadata": {},
   "outputs": [],
   "source": [
    "pengalian = lambda x, y: x*y"
   ]
  },
  {
   "cell_type": "code",
   "execution_count": 140,
   "metadata": {},
   "outputs": [
    {
     "data": {
      "text/plain": [
       "14"
      ]
     },
     "execution_count": 140,
     "metadata": {},
     "output_type": "execute_result"
    }
   ],
   "source": [
    "pengalian(2,7)"
   ]
  },
  {
   "cell_type": "code",
   "execution_count": 141,
   "metadata": {},
   "outputs": [],
   "source": [
    "#REKURSI (FUNGSI YANG MEMANGGIL DIRINYA SENDIRI)\n",
    "\n",
    "def factorials(n):\n",
    "    if (n == 1) or (n == 0): #Stop condition\n",
    "        return 1\n",
    "    else:\n",
    "        return n *factorials(n-1)"
   ]
  },
  {
   "cell_type": "code",
   "execution_count": 142,
   "metadata": {},
   "outputs": [
    {
     "name": "stdout",
     "output_type": "stream",
     "text": [
      "Ini masuk prosedur\n",
      "Ini adalah input pertama\n",
      "Ini adalah input kedua\n"
     ]
    }
   ],
   "source": [
    "def prosedur(input1, input2):\n",
    "    print(\"Ini masuk prosedur\")\n",
    "    print(input1)\n",
    "    print(input2)\n",
    "    \n",
    "x = prosedur(\"Ini adalah input pertama\", \"Ini adalah input kedua\")"
   ]
  },
  {
   "cell_type": "code",
   "execution_count": 143,
   "metadata": {},
   "outputs": [
    {
     "name": "stdout",
     "output_type": "stream",
     "text": [
      "values list didalam procedure :  [10, 20, 30, 40, [1, 2, 3, 4, 5]]\n",
      "values list di luar procedure [10, 20, 30, 40, [1, 2, 3, 4, 5]]\n"
     ]
    }
   ],
   "source": [
    "def prodc (list_input):\n",
    "    list_input.append([1,2,3,4,5])\n",
    "    print(\"values list didalam procedure : \", list_input)\n",
    "    \n",
    "list1 = [10,20,30,40]\n",
    "prodc(list1)\n",
    "print(\"values list di luar procedure\", list1)"
   ]
  },
  {
   "cell_type": "code",
   "execution_count": 144,
   "metadata": {},
   "outputs": [
    {
     "name": "stdout",
     "output_type": "stream",
     "text": [
      "values list didalam procedure :  [1, 2, 3, 4, 5]\n",
      "values list di luar procedure [10, 20, 30, 40]\n"
     ]
    }
   ],
   "source": [
    "#pengurangan tanda append\n",
    "\n",
    "def prodc (list_input):\n",
    "    list_input = [1,2,3,4,5]\n",
    "    print(\"values list didalam procedure : \", list_input)\n",
    "    \n",
    "list1 = [10,20,30,40]\n",
    "prodc(list1)\n",
    "print(\"values list di luar procedure\", list1)"
   ]
  },
  {
   "cell_type": "code",
   "execution_count": 145,
   "metadata": {},
   "outputs": [
    {
     "name": "stdout",
     "output_type": "stream",
     "text": [
      "Bilangan di dalam prosedur :  6\n",
      "Bilangan di luar prosedur:  5\n"
     ]
    }
   ],
   "source": [
    "def tambah_satu (x):\n",
    "    x += 1\n",
    "    print(\"Bilangan di dalam prosedur : \", x)\n",
    "    \n",
    "bill = 5\n",
    "tambah_satu(bill)\n",
    "print(\"Bilangan di luar prosedur: \", bill)"
   ]
  },
  {
   "cell_type": "code",
   "execution_count": 146,
   "metadata": {},
   "outputs": [],
   "source": [
    "def procedur_no_input(s):\n",
    "    print(\"ABC\")\n",
    "    print(\"DEF\")\n",
    "    print(\"s\")\n",
    "    # return 0"
   ]
  },
  {
   "cell_type": "code",
   "execution_count": 147,
   "metadata": {},
   "outputs": [
    {
     "name": "stdout",
     "output_type": "stream",
     "text": [
      "ABC\n",
      "DEF\n",
      "s\n"
     ]
    }
   ],
   "source": [
    "procedur_no_input(s = \"INI STRING\")"
   ]
  },
  {
   "cell_type": "code",
   "execution_count": 148,
   "metadata": {},
   "outputs": [],
   "source": [
    "def pembagian(x,y):\n",
    "    return x/y"
   ]
  },
  {
   "cell_type": "code",
   "execution_count": 149,
   "metadata": {},
   "outputs": [
    {
     "data": {
      "text/plain": [
       "0.4"
      ]
     },
     "execution_count": 149,
     "metadata": {},
     "output_type": "execute_result"
    }
   ],
   "source": [
    "pembagian(y=5, x=2)"
   ]
  },
  {
   "cell_type": "code",
   "execution_count": 150,
   "metadata": {},
   "outputs": [
    {
     "name": "stdout",
     "output_type": "stream",
     "text": [
      "Nama: Asep\n",
      "Umur: 19\n"
     ]
    }
   ],
   "source": [
    "def printinfo(nama, umur):\n",
    "    print(\"Nama:\", nama)\n",
    "    print(\"Umur:\", umur)\n",
    "    \n",
    "printinfo(umur=19, nama=\"Asep\")"
   ]
  },
  {
   "cell_type": "code",
   "execution_count": 151,
   "metadata": {},
   "outputs": [
    {
     "name": "stdout",
     "output_type": "stream",
     "text": [
      "Nama: Asep\n",
      "Umur: 27\n"
     ]
    }
   ],
   "source": [
    "def printinfo(nama, umur=27):\n",
    "    print(\"Nama:\", nama)\n",
    "    print(\"Umur:\", umur)\n",
    "    \n",
    "printinfo(nama=\"Asep\")"
   ]
  },
  {
   "cell_type": "code",
   "execution_count": 152,
   "metadata": {},
   "outputs": [
    {
     "name": "stdout",
     "output_type": "stream",
     "text": [
      "Bilangan di dalam prosedur:  6\n",
      "Bilangan diluar prosedur:  5\n"
     ]
    }
   ],
   "source": [
    "bill1= 5\n",
    "\n",
    "def tambah_satu():\n",
    "    global bill1\n",
    "    bill1 += 1\n",
    "    print(\"Bilangan di dalam prosedur: \",bill1)\n",
    "\n",
    "tambah_satu()\n",
    "print(\"Bilangan diluar prosedur: \", bill)\n",
    "    "
   ]
  },
  {
   "cell_type": "code",
   "execution_count": 153,
   "metadata": {},
   "outputs": [
    {
     "name": "stdout",
     "output_type": "stream",
     "text": [
      "Di dalam prosedur: 9\n",
      "Di luar prosedur:  0\n"
     ]
    }
   ],
   "source": [
    "total = 0\n",
    "def jumlah(bil1,bil2):\n",
    "    total = bil1 + bil2\n",
    "    print(\"Di dalam prosedur:\", total)\n",
    "    \n",
    "jumlah(5,4)\n",
    "print(\"Di luar prosedur: \", total)"
   ]
  },
  {
   "cell_type": "code",
   "execution_count": 154,
   "metadata": {},
   "outputs": [
    {
     "name": "stdout",
     "output_type": "stream",
     "text": [
      "Di dalam prosedur: 9\n",
      "Di luar prosedur:  9\n"
     ]
    }
   ],
   "source": [
    "#fungsi menambahkan \"global\"\n",
    "total = 0\n",
    "def jumlah(bil1,bil2):\n",
    "    global total\n",
    "    total = bil1 + bil2\n",
    "    print(\"Di dalam prosedur:\", total)\n",
    "    \n",
    "jumlah(5,4)\n",
    "print(\"Di luar prosedur: \", total)"
   ]
  },
  {
   "cell_type": "code",
   "execution_count": 155,
   "metadata": {},
   "outputs": [
    {
     "data": {
      "text/plain": [
       "50"
      ]
     },
     "execution_count": 155,
     "metadata": {},
     "output_type": "execute_result"
    }
   ],
   "source": [
    "bilangan1 = 20\n",
    "\n",
    "def jumlahPertama():\n",
    "    bilangan2 = 30\n",
    "    return bilangan1 + bilangan2\n",
    "\n",
    "jumlahPertama()"
   ]
  },
  {
   "attachments": {},
   "cell_type": "markdown",
   "metadata": {},
   "source": [
    "### Module\n",
    "\n",
    "file python external, ada fungsi yang bisa di pakai di program yang baru sehingga tidak perlu di tulis ulang pada file yang sama\n"
   ]
  },
  {
   "cell_type": "code",
   "execution_count": 173,
   "metadata": {},
   "outputs": [],
   "source": [
    "import module"
   ]
  },
  {
   "cell_type": "code",
   "execution_count": 174,
   "metadata": {},
   "outputs": [
    {
     "data": {
      "text/plain": [
       "'tutor dek'"
      ]
     },
     "execution_count": 174,
     "metadata": {},
     "output_type": "execute_result"
    }
   ],
   "source": [
    "module.s"
   ]
  },
  {
   "cell_type": "code",
   "execution_count": 166,
   "metadata": {},
   "outputs": [
    {
     "name": "stdout",
     "output_type": "stream",
     "text": [
      "['/Users/raraditapurnamareta/hacktiv8python', '/Library/Developer/CommandLineTools/Library/Frameworks/Python3.framework/Versions/3.8/lib/python38.zip', '/Library/Developer/CommandLineTools/Library/Frameworks/Python3.framework/Versions/3.8/lib/python3.8', '/Library/Developer/CommandLineTools/Library/Frameworks/Python3.framework/Versions/3.8/lib/python3.8/lib-dynload', '', '/Users/raraditapurnamareta/Library/Python/3.8/lib/python/site-packages', '/Library/Developer/CommandLineTools/Library/Frameworks/Python3.framework/Versions/3.8/lib/python3.8/site-packages']\n"
     ]
    }
   ],
   "source": [
    "import sys\n",
    "print(sys.path)"
   ]
  },
  {
   "cell_type": "code",
   "execution_count": 168,
   "metadata": {},
   "outputs": [],
   "source": [
    "import math"
   ]
  },
  {
   "cell_type": "code",
   "execution_count": 169,
   "metadata": {},
   "outputs": [
    {
     "data": {
      "text/plain": [
       "'/Library/Developer/CommandLineTools/Library/Frameworks/Python3.framework/Versions/3.8/lib/python3.8/lib-dynload/math.cpython-38-darwin.so'"
      ]
     },
     "execution_count": 169,
     "metadata": {},
     "output_type": "execute_result"
    }
   ],
   "source": [
    "math.__file__"
   ]
  },
  {
   "cell_type": "code",
   "execution_count": 1,
   "metadata": {},
   "outputs": [],
   "source": [
    "import module as m"
   ]
  },
  {
   "cell_type": "code",
   "execution_count": 2,
   "metadata": {},
   "outputs": [
    {
     "data": {
      "text/plain": [
       "'tutor dek'"
      ]
     },
     "execution_count": 2,
     "metadata": {},
     "output_type": "execute_result"
    }
   ],
   "source": [
    "m.s"
   ]
  },
  {
   "cell_type": "code",
   "execution_count": 3,
   "metadata": {},
   "outputs": [
    {
     "data": {
      "text/plain": [
       "[10, 20, 30]"
      ]
     },
     "execution_count": 3,
     "metadata": {},
     "output_type": "execute_result"
    }
   ],
   "source": [
    "m.mylist"
   ]
  },
  {
   "cell_type": "code",
   "execution_count": 1,
   "metadata": {},
   "outputs": [],
   "source": [
    "# import importlib\n",
    "\n",
    "# importlib.reload(module)"
   ]
  },
  {
   "attachments": {},
   "cell_type": "markdown",
   "metadata": {},
   "source": [
    "### PACKAGE\n",
    "\n",
    "Kumpulan modul yang disimpan dalam 1 folder yang sama"
   ]
  },
  {
   "cell_type": "code",
   "execution_count": 1,
   "metadata": {},
   "outputs": [],
   "source": [
    "import pkg.module"
   ]
  },
  {
   "cell_type": "code",
   "execution_count": 3,
   "metadata": {},
   "outputs": [],
   "source": [
    "import pkg.module as m"
   ]
  },
  {
   "cell_type": "code",
   "execution_count": 4,
   "metadata": {},
   "outputs": [
    {
     "data": {
      "text/plain": [
       "[10, 20, 30]"
      ]
     },
     "execution_count": 4,
     "metadata": {},
     "output_type": "execute_result"
    }
   ],
   "source": [
    "m.mylist"
   ]
  }
 ],
 "metadata": {
  "kernelspec": {
   "display_name": "Python 3",
   "language": "python",
   "name": "python3"
  },
  "language_info": {
   "codemirror_mode": {
    "name": "ipython",
    "version": 3
   },
   "file_extension": ".py",
   "mimetype": "text/x-python",
   "name": "python",
   "nbconvert_exporter": "python",
   "pygments_lexer": "ipython3",
   "version": "3.8.9"
  },
  "orig_nbformat": 4
 },
 "nbformat": 4,
 "nbformat_minor": 2
}
